{
 "cells": [
  {
   "cell_type": "code",
   "execution_count": 9,
   "id": "2971b5dd",
   "metadata": {},
   "outputs": [
    {
     "name": "stdout",
     "output_type": "stream",
     "text": [
      "Searching element is present at the index 2\n"
     ]
    }
   ],
   "source": [
    "## Apprach 1: Implementation of Binary Search using recursion\n",
    "\n",
    "## Function Definition\n",
    "## Time complexity : O(logn)\n",
    "def binarySearch(arr, i, j, x):\n",
    "    while i <= j:\n",
    "        mid = i + (j-i)//2\n",
    "        if arr[mid] == x:\n",
    "            return mid\n",
    "        elif arr[mid] < x:\n",
    "            ## recusion-> calling the same function again \n",
    "            ## with different set of parameters\n",
    "            return binarySearch(arr, mid+1, j, x)\n",
    "        else:\n",
    "            return binarySearch(arr, i, mid-1, x)\n",
    "    ## Searching element is not present in the array\n",
    "    return -1\n",
    "\n",
    "## Driver code\n",
    "## Sorted array\n",
    "arr = [2, 5, 10, 14, 18, 22, 27, 35, 40, 59]\n",
    "x = 10  #x is the element that needs to be searched in the array using Binary Search approach\n",
    "i = 0   #i is the lower bound of the array\n",
    "j = len(arr) - 1  #j is the upper bound of the array considering that indexing starts from 0\n",
    "## Function call\n",
    "result = binarySearch(arr, i, j, x)\n",
    "print(\"Searching element is present at the index\", result)"
   ]
  },
  {
   "cell_type": "code",
   "execution_count": 11,
   "id": "15c3fa82",
   "metadata": {},
   "outputs": [
    {
     "name": "stdout",
     "output_type": "stream",
     "text": [
      "Searching element is present at the index -1\n"
     ]
    }
   ],
   "source": [
    "## Approach 2: Implementation of Binary Search without using recursion\n",
    "\n",
    "## Function Definition\n",
    "def binarySearch(arr, i, j, x):\n",
    "    while i <= j:\n",
    "        mid = i + (j-i)//2\n",
    "        if arr[mid] == x:\n",
    "            return mid\n",
    "        elif arr[mid] < x:\n",
    "            ## update the i parameter\n",
    "            i = mid+1\n",
    "        else:\n",
    "            ## update the j parameter\n",
    "            j = mid-1\n",
    "    ## Searching element is not present in the array\n",
    "    return -1\n",
    "\n",
    "## Driver code\n",
    "## Sorted array\n",
    "arr = [2, 5, 10, 14, 18, 22, 27, 35, 40, 59]\n",
    "x = 20\n",
    "i = 0\n",
    "j = len(arr) - 1\n",
    "## Function call\n",
    "result = binarySearch(arr, i, j, x)\n",
    "print(\"Searching element is present at the index\", result)"
   ]
  },
  {
   "cell_type": "code",
   "execution_count": null,
   "id": "783aa8cb",
   "metadata": {},
   "outputs": [],
   "source": []
  },
  {
   "cell_type": "code",
   "execution_count": null,
   "id": "40a9ea93",
   "metadata": {},
   "outputs": [],
   "source": []
  },
  {
   "cell_type": "code",
   "execution_count": null,
   "id": "73b5f0cf",
   "metadata": {},
   "outputs": [],
   "source": []
  },
  {
   "cell_type": "code",
   "execution_count": null,
   "id": "d694079b",
   "metadata": {},
   "outputs": [],
   "source": []
  }
 ],
 "metadata": {
  "kernelspec": {
   "display_name": "Python 3 (ipykernel)",
   "language": "python",
   "name": "python3"
  },
  "language_info": {
   "codemirror_mode": {
    "name": "ipython",
    "version": 3
   },
   "file_extension": ".py",
   "mimetype": "text/x-python",
   "name": "python",
   "nbconvert_exporter": "python",
   "pygments_lexer": "ipython3",
   "version": "3.10.9"
  }
 },
 "nbformat": 4,
 "nbformat_minor": 5
}
