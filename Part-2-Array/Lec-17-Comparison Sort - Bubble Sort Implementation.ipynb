{
 "cells": [
  {
   "cell_type": "code",
   "execution_count": 1,
   "id": "e69a84ac",
   "metadata": {},
   "outputs": [
    {
     "name": "stdout",
     "output_type": "stream",
     "text": [
      "Array after applying bubble sort: [5, 15, 20, 30, 50, 70, 90]\n"
     ]
    }
   ],
   "source": [
    "## Method definition\n",
    "## Time Complexity : O(n^2)\n",
    "def bubbleSort(arr):\n",
    "    n = len(arr)\n",
    "    for i in range(n):   #loop to traverse through n-1 Passes\n",
    "        for j in range(0, n-i-1):  #For each pass this loop will make traversal through elements within in followed by\n",
    "                                   #comparison and swaping. For pass 0 we need to not remove element from end. For pass 1 we\n",
    "                                   #to ignore 1 element from end similarly for pass 2 we need to ignore 2 elements from the\n",
    "                                   #end that why n-i but why we are doing n-i-1 so that we can make compasrison beyond that.\n",
    "                                   #Anyhow since we are doining comparison b/w arr[j] and arr[j+1].\n",
    "            if arr[j] > arr[j+1]:\n",
    "                ##swap of the elements\n",
    "                arr[j], arr[j+1] = arr[j+1], arr[j]\n",
    "    return arr\n",
    "\n",
    "## Driver code\n",
    "arr = [70, 20, 50, 30, 90, 5, 15]\n",
    "result = bubbleSort(arr)\n",
    "print(\"Array after applying bubble sort:\", result)"
   ]
  },
  {
   "cell_type": "code",
   "execution_count": null,
   "id": "35121197",
   "metadata": {},
   "outputs": [],
   "source": []
  }
 ],
 "metadata": {
  "kernelspec": {
   "display_name": "Python 3 (ipykernel)",
   "language": "python",
   "name": "python3"
  },
  "language_info": {
   "codemirror_mode": {
    "name": "ipython",
    "version": 3
   },
   "file_extension": ".py",
   "mimetype": "text/x-python",
   "name": "python",
   "nbconvert_exporter": "python",
   "pygments_lexer": "ipython3",
   "version": "3.10.9"
  }
 },
 "nbformat": 4,
 "nbformat_minor": 5
}
