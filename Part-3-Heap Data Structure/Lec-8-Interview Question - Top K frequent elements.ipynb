{
 "cells": [
  {
   "cell_type": "code",
   "execution_count": 22,
   "id": "e952ede5",
   "metadata": {},
   "outputs": [
    {
     "name": "stdout",
     "output_type": "stream",
     "text": [
      "The top k frequent elements are: [1, 2]\n"
     ]
    }
   ],
   "source": [
    "from collections import Counter\n",
    "import heapq\n",
    "## function definition\n",
    "def topKfrequentElement(arr, k):\n",
    "    if k == len(arr):   #Base conditions\n",
    "        return set(arr)  #In case we are asked to return unique elements then use set typecasting. Else if we are asked to \n",
    "                         #return with duplicate elements then we would have returned an array directly without performing the\n",
    "                         #set typecasting\n",
    "    \n",
    "    count = Counter(arr)\n",
    "    ## count is dictionary which contains unique values as the key and\n",
    "    ## the frequency of those unique elements as the value\n",
    "    #print(count)\n",
    "    \n",
    "    #heapq.nlargest(how many top n largest value to return-->int , iterable object, key defines the entity upon which\n",
    "    #                                                          comparison will be made for fetching the top n largest element)\n",
    "    return heapq.nlargest(k, count.keys(), key=count.get)\n",
    "    #k represents the total number largest to fetch, count.keys() represents the iterable object, key=count.get represents the\n",
    "    #frequency value for each element upon which comparsion will be made for the largest element\n",
    "\n",
    "## Driver code\n",
    "arr = [1,1,1,1,2,2,2,3]\n",
    "k = 2\n",
    "## function calling\n",
    "result = topKfrequentElement(arr, k)\n",
    "print(\"The top k frequent elements are:\", result)"
   ]
  },
  {
   "cell_type": "code",
   "execution_count": null,
   "id": "da5c2449",
   "metadata": {},
   "outputs": [],
   "source": []
  }
 ],
 "metadata": {
  "kernelspec": {
   "display_name": "Python 3 (ipykernel)",
   "language": "python",
   "name": "python3"
  },
  "language_info": {
   "codemirror_mode": {
    "name": "ipython",
    "version": 3
   },
   "file_extension": ".py",
   "mimetype": "text/x-python",
   "name": "python",
   "nbconvert_exporter": "python",
   "pygments_lexer": "ipython3",
   "version": "3.10.9"
  }
 },
 "nbformat": 4,
 "nbformat_minor": 5
}
