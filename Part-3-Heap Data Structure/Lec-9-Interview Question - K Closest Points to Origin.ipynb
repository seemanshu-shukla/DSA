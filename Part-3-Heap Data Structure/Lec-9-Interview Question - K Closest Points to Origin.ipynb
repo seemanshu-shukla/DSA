{
 "cells": [
  {
   "cell_type": "code",
   "execution_count": 3,
   "id": "99970800",
   "metadata": {},
   "outputs": [
    {
     "name": "stdout",
     "output_type": "stream",
     "text": [
      "K Closest Points to the origin are: [[3, 3], [-2, 4]]\n"
     ]
    }
   ],
   "source": [
    "## Time complexity for the below mentioned code\n",
    "\n",
    "from heapq import heappush, heappop\n",
    "import math\n",
    "## function definition\n",
    "## get_dist is to give the euclidean distance\n",
    "def get_dist(x,y):\n",
    "    return math.sqrt(x**2 + y**2)\n",
    "\n",
    "def kClosest(points, k):\n",
    "    min_heap = [] #As discussed in lecture we can use array based data structure(list) for string the heap elements since there\n",
    "                  #will be very less memory wastage\n",
    "    n = len(points)\n",
    "    for i in range(n):\n",
    "        x = points[i][0]  #fetching x coordinate of a point\n",
    "        y = points[i][1]  #fetching y coordinate of a point\n",
    "        ## to insert the elements inside the minheap\n",
    "        heappush(min_heap, (get_dist(x,y), points[i])) #Inside min_heap list each element will be stored in the form of tuple\n",
    "                                                       #where first index will represent distance of repective point from the\n",
    "                                                    #origin whereas the second index will represent the point that is used for\n",
    "                                                    #the calculating the distance.\n",
    "        \n",
    "    result = []  #Creating a new list that will store the points for the first k smallest distances from the origin\n",
    "    for i in range(k):\n",
    "        ## to delete the elements from the minheap\n",
    "        result.append(heappop(min_heap)[1])\n",
    "    return result\n",
    "\n",
    "## Driver code\n",
    "points = [[3,3], [5,-1], [-2, 4]]\n",
    "k = 2\n",
    "## function calling\n",
    "result = kClosest(points, k)\n",
    "print(\"K Closest Points to the origin are:\",result)"
   ]
  },
  {
   "cell_type": "code",
   "execution_count": null,
   "id": "cc9e82b4",
   "metadata": {},
   "outputs": [],
   "source": []
  },
  {
   "cell_type": "code",
   "execution_count": 5,
   "id": "04052ecf",
   "metadata": {},
   "outputs": [
    {
     "name": "stdout",
     "output_type": "stream",
     "text": [
      "[(4.242640687119285, [3, 3]), (5.0990195135927845, [5, -1]), (4.47213595499958, [-2, 4])]\n",
      "K Closest Points to the origin are: [[3, 3], [-2, 4]]\n"
     ]
    }
   ],
   "source": [
    "## Time complexity for the below mentioned code\n",
    "\n",
    "from heapq import heappush, heappop\n",
    "import math\n",
    "## function definition\n",
    "## get_dist is to give the euclidean distance\n",
    "def get_dist(x,y):\n",
    "    return math.sqrt(x**2 + y**2)\n",
    "\n",
    "def kClosest(points, k):\n",
    "    min_heap = [] #As discussed in lecture we can use array based data structure(list) for string the heap elements since there\n",
    "                  #will be very less memory wastage\n",
    "    n = len(points)\n",
    "    for i in range(n):\n",
    "        x = points[i][0]  #fetching x coordinate of a point\n",
    "        y = points[i][1]  #fetching y coordinate of a point\n",
    "        ## to insert the elements inside the minheap\n",
    "        heappush(min_heap, (get_dist(x,y), points[i])) #Inside min_heap list each element will be stored in the form of tuple\n",
    "                                                       #where first index will represent distance of repective point from the\n",
    "                                                    #origin whereas the second index will represent the point that is used for\n",
    "                                                    #the calculating the distance.\n",
    "    print(min_heap)\n",
    "        \n",
    "    result = []  #Creating a new list that will store the points for the first k smallest distances from the origin\n",
    "    for i in range(k):\n",
    "        ## to delete the elements from the minheap\n",
    "        result.append(heappop(min_heap)[1])\n",
    "    return result\n",
    "\n",
    "## Driver code\n",
    "points = [[3,3], [5,-1], [-2, 4]]\n",
    "k = 2\n",
    "## function calling\n",
    "result = kClosest(points, k)\n",
    "print(\"K Closest Points to the origin are:\",result)"
   ]
  },
  {
   "cell_type": "code",
   "execution_count": null,
   "id": "3950b4e0",
   "metadata": {},
   "outputs": [],
   "source": []
  },
  {
   "cell_type": "code",
   "execution_count": null,
   "id": "c14206f3",
   "metadata": {},
   "outputs": [],
   "source": []
  }
 ],
 "metadata": {
  "kernelspec": {
   "display_name": "Python 3 (ipykernel)",
   "language": "python",
   "name": "python3"
  },
  "language_info": {
   "codemirror_mode": {
    "name": "ipython",
    "version": 3
   },
   "file_extension": ".py",
   "mimetype": "text/x-python",
   "name": "python",
   "nbconvert_exporter": "python",
   "pygments_lexer": "ipython3",
   "version": "3.10.9"
  }
 },
 "nbformat": 4,
 "nbformat_minor": 5
}
